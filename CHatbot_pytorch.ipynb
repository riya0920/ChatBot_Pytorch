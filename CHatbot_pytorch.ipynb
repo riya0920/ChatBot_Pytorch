{
  "nbformat": 4,
  "nbformat_minor": 0,
  "metadata": {
    "colab": {
      "provenance": []
    },
    "kernelspec": {
      "name": "python3",
      "display_name": "Python 3"
    },
    "language_info": {
      "name": "python"
    }
  },
  "cells": [
    {
      "cell_type": "code",
      "execution_count": null,
      "metadata": {
        "colab": {
          "base_uri": "https://localhost:8080/"
        },
        "id": "3Syg3QcF7SZ4",
        "outputId": "7bed7d49-f59a-4196-cf97-371ca6c09957"
      },
      "outputs": [
        {
          "output_type": "stream",
          "name": "stdout",
          "text": [
            "Collecting opendatasets\n",
            "  Downloading opendatasets-0.1.22-py3-none-any.whl (15 kB)\n",
            "Requirement already satisfied: tqdm in /usr/local/lib/python3.10/dist-packages (from opendatasets) (4.65.0)\n",
            "Requirement already satisfied: kaggle in /usr/local/lib/python3.10/dist-packages (from opendatasets) (1.5.13)\n",
            "Requirement already satisfied: click in /usr/local/lib/python3.10/dist-packages (from opendatasets) (8.1.3)\n",
            "Requirement already satisfied: six>=1.10 in /usr/local/lib/python3.10/dist-packages (from kaggle->opendatasets) (1.16.0)\n",
            "Requirement already satisfied: certifi in /usr/local/lib/python3.10/dist-packages (from kaggle->opendatasets) (2023.5.7)\n",
            "Requirement already satisfied: python-dateutil in /usr/local/lib/python3.10/dist-packages (from kaggle->opendatasets) (2.8.2)\n",
            "Requirement already satisfied: requests in /usr/local/lib/python3.10/dist-packages (from kaggle->opendatasets) (2.27.1)\n",
            "Requirement already satisfied: python-slugify in /usr/local/lib/python3.10/dist-packages (from kaggle->opendatasets) (8.0.1)\n",
            "Requirement already satisfied: urllib3 in /usr/local/lib/python3.10/dist-packages (from kaggle->opendatasets) (1.26.16)\n",
            "Requirement already satisfied: text-unidecode>=1.3 in /usr/local/lib/python3.10/dist-packages (from python-slugify->kaggle->opendatasets) (1.3)\n",
            "Requirement already satisfied: charset-normalizer~=2.0.0 in /usr/local/lib/python3.10/dist-packages (from requests->kaggle->opendatasets) (2.0.12)\n",
            "Requirement already satisfied: idna<4,>=2.5 in /usr/local/lib/python3.10/dist-packages (from requests->kaggle->opendatasets) (3.4)\n",
            "Installing collected packages: opendatasets\n",
            "Successfully installed opendatasets-0.1.22\n"
          ]
        }
      ],
      "source": [
        "!pip install opendatasets"
      ]
    },
    {
      "cell_type": "code",
      "source": [],
      "metadata": {
        "id": "PmraUl3i79wx"
      },
      "execution_count": null,
      "outputs": []
    },
    {
      "cell_type": "code",
      "source": [
        "import opendatasets as od\n",
        "import pandas\n",
        "od.download(\n",
        "    \"https://www.kaggle.com/datasets/niraliivaghani/chatbot-dataset\")"
      ],
      "metadata": {
        "colab": {
          "base_uri": "https://localhost:8080/"
        },
        "id": "VB0Zeu0T72hk",
        "outputId": "bd890fcc-12c1-493b-9fbf-d4135ddec195"
      },
      "execution_count": null,
      "outputs": [
        {
          "output_type": "stream",
          "name": "stdout",
          "text": [
            "Skipping, found downloaded files in \"./chatbot-dataset\" (use force=True to force download)\n"
          ]
        }
      ]
    },
    {
      "cell_type": "code",
      "source": [
        "import tensorflow as tf\n",
        "import numpy as np\n"
      ],
      "metadata": {
        "id": "RqYSzKK48RgL"
      },
      "execution_count": null,
      "outputs": []
    },
    {
      "cell_type": "code",
      "source": [
        "import json\n",
        "\n",
        "# Opening JSON file\n",
        "f = open('/content/chatbot-dataset/intents.json')\n",
        "\n",
        "# returns JSON object as\n",
        "# a dictionary\n",
        "data = json.load(f)\n",
        "\n",
        "# Iterating through the json\n",
        "# list\n",
        "for i in data['intents']:\n",
        "    print(i)"
      ],
      "metadata": {
        "colab": {
          "base_uri": "https://localhost:8080/"
        },
        "id": "gBaL1SMD9JVJ",
        "outputId": "25b80aaf-c8b8-4218-f954-e53908bed8ae"
      },
      "execution_count": null,
      "outputs": [
        {
          "output_type": "stream",
          "name": "stdout",
          "text": [
            "{'tag': 'greeting', 'patterns': ['Hi', 'How are you?', 'Is anyone there?', 'Hello', 'Good day', \"What's up\", 'how are ya', 'heyy', 'whatsup', '??? ??? ??'], 'responses': ['Hello!', 'Good to see you again!', 'Hi there, how can I help?'], 'context_set': ''}\n",
            "{'tag': 'goodbye', 'patterns': ['cya', 'see you', 'bye bye', 'See you later', 'Goodbye', 'I am Leaving', 'Bye', 'Have a Good day', 'talk to you later', 'ttyl', 'i got to go', 'gtg'], 'responses': ['Sad to see you go :(', 'Talk to you later', 'Goodbye!', 'Come back soon'], 'context_set': ''}\n",
            "{'tag': 'creator', 'patterns': ['what is the name of your developers', 'what is the name of your creators', 'what is the name of the developers', 'what is the name of the creators', 'who created you', 'your developers', 'your creators', 'who are your developers', 'developers', 'you are made by', 'you are made by whom', 'who created you', 'who create you', 'creators', 'who made you', 'who designed you'], 'responses': ['College students'], 'context_set': ''}\n",
            "{'tag': 'name', 'patterns': ['name', 'your name', 'do you have a name', 'what are you called', 'what is your name', 'what should I call you', 'whats your name?', 'what are you', 'who are you', 'who is this', 'what am i chatting to', 'who am i taking to', 'what are you'], 'responses': ['You can call me Mind Reader.', \"I'm Mind Reader\", 'I am a Chatbot.', 'I am your helper'], 'context_set': ''}\n",
            "{'tag': 'hours', 'patterns': ['timing of college', 'what is college timing', 'working days', 'when are you guys open', 'what are your hours', 'hours of operation', 'when is the college open', 'college timing', 'what about college timing', 'is college open on saturday', 'tell something about college timing', 'what is the college  hours', 'when should i come to college', 'when should i attend college', 'what is my college time', 'college timing', 'timing college'], 'responses': ['College is open 8am-5pm Monday-Saturday!'], 'context_set': ''}\n",
            "{'tag': 'number', 'patterns': ['more info', 'contact info', 'how to contact college', 'college telephone number', 'college number', 'What is your contact no', 'Contact number?', 'how to call you', 'College phone no?', 'how can i contact you', 'Can i get your phone number', 'how can i call you', 'phone number', 'phone no', 'call'], 'responses': ['You can contact at: NUMBER'], 'context_set': ''}\n",
            "{'tag': 'course', 'patterns': ['list of courses', 'list of courses offered', 'list of courses offered in', 'what are the courses offered in your college?', 'courses?', 'courses offered', 'courses offered in (your univrsity(UNI) name)', 'courses you offer', 'branches?', 'courses available at UNI?', 'branches available at your college?', 'what are the courses in UNI?', 'what are branches in UNI?', 'what are courses in UNI?', 'branches available in UNI?', 'can you tell me the courses available in UNI?', 'can you tell me the branches available in UNI?', 'computer engineering?', 'computer', 'Computer engineering?', 'it', 'IT', 'Information Technology', 'AI/Ml', 'Mechanical engineering', 'Chemical engineering', 'Civil engineering'], 'responses': ['Our university offers Information Technology, computer Engineering, Mechanical engineering,Chemical engineering, Civil engineering and extc Engineering.'], 'context_set': ''}\n",
            "{'tag': 'fees', 'patterns': ['information about fee', 'information on fee', 'tell me the fee', 'college fee', 'fee per semester', 'what is the fee of each semester', 'what is the fees of each year', 'what is fee', 'what is the fees', 'how much is the fees', 'fees for first year', 'fees', 'about the fees', 'tell me something about the fees', 'What is the fees of hostel', 'how much is the fees', 'hostel fees', 'fees for AC room', 'fees for non-AC room', 'fees for Ac room for girls', 'fees for non-Ac room for girls', 'fees for Ac room for boys', 'fees for non-Ac room for boys'], 'responses': ['For Fee detail visit <a target=\"_blank\" href=\"LINK\"> here</a>'], 'context_set': ''}\n",
            "{'tag': 'location', 'patterns': ['where is the college located', 'college is located at', 'where is college', 'where is college located', 'address of college', 'how to reach college', 'college location', 'college address', 'wheres the college', 'how can I reach college', 'whats is the college address', 'what is the address of college', 'address', 'location'], 'responses': ['<a target=\"_blank\" href=\"ADD YOU GOOGLE MAP LINK HERE\"> here</a>'], 'context_set': ''}\n",
            "{'tag': 'hostel', 'patterns': ['hostel facility', 'hostel servive', 'hostel location', 'hostel address', 'hostel facilities', 'hostel fees', 'Does college provide hostel', 'Is there any hostel', 'Where is hostel', 'do you have hostel', 'do you guys have hostel', 'hostel', 'hostel capacity', 'what is the hostel fee', 'how to get in hostel', 'what is the hostel address', 'how far is hostel from college', 'hostel college distance', 'where is the hostel', 'how big is the hostel', 'distance between college and hostel', 'distance between hostel and college'], 'responses': ['For hostel detail visit <a target=\"_blank\" href=\"ADD YOUR HOSTEL DETAIL PDF LINK OR ANY INFORMATION LINK OR ADD YOU OWN ANSWERS\"> here</a>'], 'context_set': ''}\n",
            "{'tag': 'event', 'patterns': ['events organised', 'list of events', 'list of events organised in college', 'list of events conducted in college', 'What events are conducted in college', 'Are there any event held at college', 'Events?', 'functions', 'what are the events', 'tell me about events', 'what about events'], 'responses': ['For event detail visit <a target=\"_blank\" href=\"ADD YOUR FUNCTIONS LINK OR YOUR OWN RESPONSE\"> here</a>'], 'context_set': ''}\n",
            "{'tag': 'document', 'patterns': ['document to bring', 'documents needed for admision', 'documents needed at the time of admission', 'documents needed during admission', 'documents required for admision', 'documents required at the time of admission', 'documents required during admission', 'What document are required for admission', 'Which document to bring for admission', 'documents', 'what documents do i need', 'what documents do I need for admission', 'documents needed'], 'responses': ['To know more about document required visit <a target=\"_blank\" href=\"ADD LINK OF ADMISSION GUIDANCE DOCUMENT FROM YOUR UNIVERSITY WEBSITE\"> here</a>'], 'context_set': ''}\n",
            "{'tag': 'floors', 'patterns': ['size of campus', 'building size', 'How many floors does college have', 'floors in college', 'floors in college', \"how tall is UNI's College of Engineering college building\", 'floors'], 'responses': ['My College has total 2 floors '], 'context_set': ''}\n",
            "{'tag': 'syllabus', 'patterns': ['Syllabus for IT', 'what is the Information Technology syllabus', 'syllabus', 'timetable', 'what is IT syllabus', 'syllabus', 'What is next lecture'], 'responses': ['Timetable provide direct to the students OR To know about syllabus visit <a target=\"_blank\" href=\"TIMETABLE LINK\"> here</a>'], 'context_set': ''}\n",
            "{'tag': 'library', 'patterns': ['is there any library', 'library facility', 'library facilities', 'do you have library', 'does the college have library facility', 'college library', 'where can i get books', 'book facility', 'Where is library', 'Library', 'Library information', 'Library books information', 'Tell me about library', 'how many libraries'], 'responses': ['There is one huge and spacious library.timings are 8am to 6pm and for more visit <a target=\"blank\" href=\"ADD LIBRARY DETAIL LINK\">here</a>'], 'context_set': ''}\n",
            "{'tag': 'infrastructure', 'patterns': ['how is college infrastructure', 'infrastructure', 'college infrastructure'], 'responses': ['Our University has Excellent Infrastructure. Campus is clean. Good IT Labs With Good Speed of Internet connection'], 'context_set': ''}\n",
            "{'tag': 'canteen', 'patterns': ['food facilities', 'canteen facilities', 'canteen facility', 'is there any canteen', 'Is there a cafetaria in college', 'Does college have canteen', 'Where is canteen', 'where is cafetaria', 'canteen', 'Food', 'Cafetaria'], 'responses': ['Our university has canteen with variety of food available'], 'context_set': ''}\n",
            "{'tag': 'menu', 'patterns': ['food menu', 'food in canteen', 'Whats there on menu', 'what is available in college canteen', 'what foods can we get in college canteen', 'food variety', 'What is there to eat?'], 'responses': ['we serve Franky, Locho, Alu-puri, Kachori, Khavsa, Thaali and many more on menu'], 'context_set': ''}\n",
            "{'tag': 'placement', 'patterns': ['What is college placement', 'Which companies visit in college', 'What is average package', 'companies visit', 'package', 'About placement', 'placement', 'recruitment', 'companies'], 'responses': ['To know about placement visit <a target=\"_blank\" href=\"PLACEMENT INFORMATION LINK FROM YOUR UNIVERSITY WEBSITE IF THEY HAVE\">here</a>'], 'context_set': ''}\n",
            "{'tag': 'ithod', 'patterns': ['Who is HOD', 'Where is HOD', 'it hod', 'name of it hod'], 'responses': ['All engineering departments have only one hod XYZ who available on (Place name)'], 'context_set': ''}\n",
            "{'tag': 'computerhod', 'patterns': ['Who is computer HOD', 'Where is computer HOD', 'computer hod', 'name of computer hod'], 'responses': ['All engineering departments have only one hod XYZ who available on (PLACE NAME)'], 'context_set': ''}\n",
            "{'tag': 'extchod', 'patterns': ['Who is extc HOD', 'Where is  extc HOD', 'extc hod', 'name of extc hod'], 'responses': ['Different school wise hod are different.So be more clear with your school or department'], 'context_set': ''}\n",
            "{'tag': 'principal', 'patterns': ['what is the name of principal', 'whatv is the principal name', 'principal name', 'Who is college principal', \"Where is principal's office\", 'principal', 'name of principal'], 'responses': ['XYZ is college principal and if you need any help then call your branch hod first.That is more appropriate'], 'context_set': ''}\n",
            "{'tag': 'sem', 'patterns': ['exam dates', 'exam schedule', 'When is semester exam', 'Semester exam timetable', 'sem', 'semester', 'exam', 'when is exam', 'exam timetable', 'exam dates', 'when is semester'], 'responses': ['Here is the Academic Calendar  <a target=\"_blank\" href=\"YOUR ACADEMIC CALENDER\">website</a>'], 'context_set': ''}\n",
            "{'tag': 'admission', 'patterns': ['what is the process of admission', 'what is the admission process', 'How to take admission in your college', 'What is the process for admission', 'admission', 'admission process'], 'responses': ['Application can also be submitted online through the Unversity\\'s  <a target=\"_blank\" href=\"LINK OF ADMISSION DOCUMENT\">website</a>'], 'context_set': ''}\n",
            "{'tag': 'scholarship', 'patterns': ['scholarship', 'Is scholarship available', 'scholarship engineering', 'scholarship it', 'scholarship ce', 'scholarship mechanical', 'scholarship civil', 'scholarship chemical', 'scholarship for AI/ML', 'available scholarships', 'scholarship for computer engineering', 'scholarship for IT engineering', 'scholarship for mechanical engineering', 'scholarship for civil engineering', 'scholarship for chemical engineering', 'list of scholarship', 'comps scholarship', 'IT scholarship', 'mechanical scholarship', 'civil scholarship', 'chemical scholarship', 'automobile scholarship', 'first year scholarship', 'second year scholarship', 'third year scholarship', 'fourth year scholarship'], 'responses': ['Many government scholarships are supported by our university. For details and updates visit <a target=\"_blank\" href=\"(SCHOLARSHIP DETAILS LINK)\">here</a>'], 'context_set': ''}\n",
            "{'tag': 'facilities', 'patterns': ['What facilities college provide', 'College facility', 'What are college facilities', 'facilities', 'facilities provided'], 'responses': [\"Our university's Engineering department provides fully AC Lab with internet connection, smart classroom, Auditorium, library,canteen\"], 'context_set': ''}\n",
            "{'tag': 'college intake', 'patterns': ['max number of students', 'number of seats per branch', 'number of seats in each branch', 'maximum number of seats', 'maximum students intake', 'What is college intake', 'how many stundent are taken in each branch', 'seat allotment', 'seats'], 'responses': ['For IT, Computer and extc 60 per branch and seat may be differ for different department.'], 'context_set': ''}\n",
            "{'tag': 'uniform', 'patterns': ['college dress code', 'college dresscode', 'what is the uniform', 'can we wear casuals', 'Does college have an uniform', 'Is there any uniform', 'uniform', 'what about uniform', 'do we have to wear uniform'], 'responses': ['ENTER YOUR OWN UNIVERSITY UNIFORM CIRCULER'], 'context_set': ''}\n",
            "{'tag': 'committee', 'patterns': ['what are the different committe in college', 'different committee in college', 'Are there any committee in college', 'Give me committee details', 'committee', 'how many committee are there in college'], 'responses': ['For the various committe in college contact this number: ADD NUMBER'], 'context_set': ''}\n",
            "{'tag': 'random', 'patterns': ['I love you', 'Will you marry me', 'Do you love me'], 'responses': ['I am not program for this, please ask appropriate query'], 'context_set': ''}\n",
            "{'tag': 'swear', 'patterns': ['fuck', 'bitch', 'shut up', 'hell', 'stupid', 'idiot', 'dumb ass', 'asshole', 'fucker'], 'responses': ['please use appropriate language', 'Maintaining decency would be appreciated'], 'context_set': ''}\n",
            "{'tag': 'vacation', 'patterns': ['holidays', 'when will semester starts', 'when will semester end', 'when is the holidays', 'list of holidays', 'Holiday in these year', 'holiday list', 'about vacations', 'about holidays', 'When is vacation', 'When is holidays', 'how long will be the vacation'], 'responses': ['Academic calender is given to you by your class-soordinators after you join your respective classes'], 'context_set': ''}\n",
            "{'tag': 'sports', 'patterns': ['sports and games', 'give sports details', 'sports infrastructure', 'sports facilities', 'information about sports', 'Sports activities', 'please provide sports and games information'], 'responses': ['Our university encourages all-round development of students and hence provides sports facilities in the campus. For more details visit<a target=\"_blank\" href=/\"(LINK IF HAVE)\">here</a>'], 'context_set': ''}\n",
            "{'tag': 'salutaion', 'patterns': ['okk', 'okie', 'nice work', 'well done', 'good job', 'thanks for the help', 'Thank You', 'its ok', 'Thanks', 'Good work', 'k', 'ok', 'okay'], 'responses': ['I am glad I helped you', 'welcome, anything else i can assist you with?'], 'context_set': ''}\n",
            "{'tag': 'task', 'patterns': ['what can you do', 'what are the thing you can do', 'things you can do', 'what can u do for me', 'how u can help me', 'why i should use you'], 'responses': ['I can answer to low-intermediate questions regarding college', 'You can ask me questions regarding college, and i will try to answer them'], 'context_set': ''}\n",
            "{'tag': 'ragging', 'patterns': ['ragging', 'is ragging practice active in college', 'does college have any antiragging facility', 'is there any ragging cases', 'is ragging done here', 'ragging against', 'antiragging facility', 'ragging juniors', 'ragging history', 'ragging incidents'], 'responses': ['We are Proud to tell you that our college provides ragging free environment, and we have strict rules against ragging'], 'context_set': ''}\n",
            "{'tag': 'hod', 'patterns': ['hod', 'hod name', 'who is the hod'], 'responses': ['HODs differ for each branch, please be more specific like: (HOD it)'], 'context_set': ''}\n"
          ]
        }
      ]
    },
    {
      "cell_type": "code",
      "source": [
        "# tf.keras.preprocessing.text.tokenizer_from_json(\n",
        "#     json_string\n",
        "# )\n",
        "patterns = []\n",
        "tags = []\n",
        "labels=[]\n",
        "train_data = []\n",
        "train_labels =[]\n",
        "for intent in data[\"intents\"]:\n",
        "  tags.append(intent[\"tag\"])\n",
        "  for pattern in intent[\"patterns\"]:\n",
        "    train_data.append(pattern)\n",
        "    labels.append(intent[\"tag\"])\n",
        "      # token = tf.strings.split(pattern)\n",
        "      # vocab.extend(token)\n",
        "for tag in tags:\n",
        "  label = tags.index(tag)\n",
        "  for x in labels:\n",
        "    if x==tag:\n",
        "      train_labels.append(label)\n",
        "#   # train_labels.append(labels)\n",
        "train_data[:10],train_labels[-10:]\n"
      ],
      "metadata": {
        "colab": {
          "base_uri": "https://localhost:8080/"
        },
        "id": "4upV1O_H9ZKO",
        "outputId": "4fe01ffa-777a-46f6-84b5-ce68971edbd6"
      },
      "execution_count": null,
      "outputs": [
        {
          "output_type": "execute_result",
          "data": {
            "text/plain": [
              "(['Hi',\n",
              "  'How are you?',\n",
              "  'Is anyone there?',\n",
              "  'Hello',\n",
              "  'Good day',\n",
              "  \"What's up\",\n",
              "  'how are ya',\n",
              "  'heyy',\n",
              "  'whatsup',\n",
              "  '??? ??? ??'],\n",
              " [36, 36, 36, 36, 36, 36, 36, 37, 37, 37])"
            ]
          },
          "metadata": {},
          "execution_count": 133
        }
      ]
    },
    {
      "cell_type": "code",
      "source": [
        "text_vectorizer = tf.keras.layers.TextVectorization(\n",
        "    max_tokens=None,\n",
        "    standardize='lower_and_strip_punctuation',\n",
        "    split='whitespace',\n",
        "    ngrams=None,\n",
        "    output_mode='int',\n",
        "    output_sequence_length=None,\n",
        "    pad_to_max_tokens=False,\n",
        "    vocabulary=None,\n",
        "    idf_weights=None,\n",
        "    sparse=False,\n",
        "    ragged=False,\n",
        "    encoding='utf-8',\n",
        ")"
      ],
      "metadata": {
        "id": "1IwSc2cW_NSD"
      },
      "execution_count": null,
      "outputs": []
    },
    {
      "cell_type": "code",
      "source": [
        "# train_data = np.array(train_data)\n",
        "# train_data[:10]\n",
        "\n",
        "# train_data = train_data.reshape(-1, 1)"
      ],
      "metadata": {
        "id": "pLUfYHPDFl7-"
      },
      "execution_count": null,
      "outputs": []
    },
    {
      "cell_type": "code",
      "source": [
        "text_vectorizer.adapt(train_data)"
      ],
      "metadata": {
        "id": "pk7bJSpUF8OP"
      },
      "execution_count": null,
      "outputs": []
    },
    {
      "cell_type": "code",
      "source": [
        "words_in_vocab = text_vectorizer.get_vocabulary()\n",
        "words_in_vocab[:10]\n"
      ],
      "metadata": {
        "colab": {
          "base_uri": "https://localhost:8080/"
        },
        "id": "b7Lx62V-HJsX",
        "outputId": "25d7ef0e-d24f-46be-95ae-b1f4c679463e"
      },
      "execution_count": null,
      "outputs": [
        {
          "output_type": "execute_result",
          "data": {
            "text/plain": [
              "['', '[UNK]', 'is', 'college', 'what', 'the', 'you', 'of', 'in', 'for']"
            ]
          },
          "metadata": {},
          "execution_count": 136
        }
      ]
    },
    {
      "cell_type": "code",
      "source": [
        "embedding = tf.keras.layers.Embedding(input_dim = len(words_in_vocab),\n",
        "                             output_dim = 128,\n",
        "                             input_length = len(words_in_vocab))\n",
        "embedding\n"
      ],
      "metadata": {
        "colab": {
          "base_uri": "https://localhost:8080/"
        },
        "id": "o9xzJd8THYj-",
        "outputId": "adc829f9-b1d9-49de-bfae-0ded0985a82e"
      },
      "execution_count": null,
      "outputs": [
        {
          "output_type": "execute_result",
          "data": {
            "text/plain": [
              "<keras.layers.core.embedding.Embedding at 0x7f31bc5d99f0>"
            ]
          },
          "metadata": {},
          "execution_count": 137
        }
      ]
    },
    {
      "cell_type": "code",
      "source": [
        "import random\n",
        "random_sentence = random.choice(train_data)\n",
        "embedded_sentence = embedding(text_vectorizer([random_sentence]))\n",
        "embedded_sentence\n",
        "# random_sentence"
      ],
      "metadata": {
        "colab": {
          "base_uri": "https://localhost:8080/"
        },
        "id": "vYMEJCutH34i",
        "outputId": "3ec1cd91-229b-4436-e7c8-3a16c9ffa1a2"
      },
      "execution_count": null,
      "outputs": [
        {
          "output_type": "execute_result",
          "data": {
            "text/plain": [
              "<tf.Tensor: shape=(1, 1, 128), dtype=float32, numpy=\n",
              "array([[[-0.01764596,  0.01279861, -0.04840164, -0.014346  ,\n",
              "          0.0459368 ,  0.01316785,  0.02003806,  0.04623621,\n",
              "         -0.00230287, -0.00612942, -0.0152493 ,  0.03035747,\n",
              "          0.00965834,  0.00318814, -0.04841471, -0.03983925,\n",
              "         -0.03442036,  0.03335447,  0.03298248,  0.030301  ,\n",
              "          0.0175735 , -0.04306504,  0.02825497,  0.00847657,\n",
              "         -0.0223417 ,  0.03150903, -0.04611404, -0.02032905,\n",
              "          0.01387571, -0.04206102,  0.04875419, -0.04558026,\n",
              "         -0.02930919,  0.01440806, -0.01354546,  0.04076506,\n",
              "         -0.01207333, -0.02365447, -0.00646137,  0.0159001 ,\n",
              "         -0.02081871,  0.04511055, -0.00182177, -0.01468064,\n",
              "          0.01190764, -0.01090554,  0.02671457,  0.0148907 ,\n",
              "         -0.00634208,  0.02691196,  0.01245791,  0.01774789,\n",
              "         -0.00672439,  0.02795471,  0.04115841, -0.03089377,\n",
              "          0.02668503,  0.02682826, -0.04098777,  0.03420032,\n",
              "          0.00917574,  0.04410904, -0.03770044, -0.01114895,\n",
              "         -0.00468415,  0.00160189,  0.03774909, -0.03337202,\n",
              "          0.04293715,  0.03646432,  0.02161627, -0.0278537 ,\n",
              "         -0.0426194 , -0.01872214, -0.03523926, -0.02252104,\n",
              "         -0.02074876,  0.02834806, -0.00943451,  0.00783069,\n",
              "         -0.00124601,  0.02725909,  0.00462668, -0.02983652,\n",
              "         -0.01166933, -0.04283771, -0.00457273,  0.04708227,\n",
              "         -0.00769104,  0.00988936, -0.0410525 , -0.01031435,\n",
              "          0.00987421, -0.04315733, -0.02509999, -0.03836384,\n",
              "         -0.04697559,  0.01969798,  0.03099401, -0.04046806,\n",
              "          0.04036155,  0.03073493,  0.02675757,  0.03781668,\n",
              "         -0.02665067, -0.0226717 , -0.02502877,  0.04040219,\n",
              "         -0.03890532, -0.01142386,  0.03588691, -0.04209933,\n",
              "          0.00817188, -0.01640401, -0.01470538, -0.00084386,\n",
              "          0.03758705, -0.04040526, -0.00787284, -0.0360987 ,\n",
              "         -0.03373556, -0.04446907, -0.03201519,  0.02528112,\n",
              "         -0.0443043 , -0.03751308,  0.01252646, -0.03664136]]],\n",
              "      dtype=float32)>"
            ]
          },
          "metadata": {},
          "execution_count": 138
        }
      ]
    },
    {
      "cell_type": "code",
      "source": [
        "from tensorflow.keras import layers\n",
        "inputs = layers.Input(shape=(1,),dtype=tf.string)\n",
        "x = text_vectorizer(inputs)\n",
        "x = embedding(x)\n",
        "x = layers.LSTM(256,return_sequences = True)(x)\n",
        "x = layers.LSTM(256)(x)\n",
        "x = layers.Dense(64)(x)\n",
        "outputs = layers.Dense(38,activation=\"softmax\")(x)\n",
        "model = tf.keras.Model(inputs,outputs)"
      ],
      "metadata": {
        "id": "ZKyP2tstIxR2"
      },
      "execution_count": null,
      "outputs": []
    },
    {
      "cell_type": "code",
      "source": [
        "model.compile(loss = \"sparse_categorical_crossentropy\",\n",
        "                optimizer = tf.keras.optimizers.Adam(),\n",
        "                metrics = [\"accuracy\"])"
      ],
      "metadata": {
        "id": "S3_t2ScZP4hE"
      },
      "execution_count": null,
      "outputs": []
    },
    {
      "cell_type": "code",
      "source": [
        "model.fit(train_data,train_labels,epochs = 10)"
      ],
      "metadata": {
        "colab": {
          "base_uri": "https://localhost:8080/"
        },
        "id": "EvEY0-3LP-Hj",
        "outputId": "cc719ddd-03ed-40cb-fce5-433fb66d09fe"
      },
      "execution_count": null,
      "outputs": [
        {
          "output_type": "stream",
          "name": "stdout",
          "text": [
            "Epoch 1/10\n",
            "13/13 [==============================] - 7s 88ms/step - loss: 3.3779 - accuracy: 0.1259\n",
            "Epoch 2/10\n",
            "13/13 [==============================] - 1s 89ms/step - loss: 2.6515 - accuracy: 0.2222\n",
            "Epoch 3/10\n",
            "13/13 [==============================] - 1s 88ms/step - loss: 1.9436 - accuracy: 0.4469\n",
            "Epoch 4/10\n",
            "13/13 [==============================] - 1s 86ms/step - loss: 1.2676 - accuracy: 0.6642\n",
            "Epoch 5/10\n",
            "13/13 [==============================] - 1s 86ms/step - loss: 0.8250 - accuracy: 0.7654\n",
            "Epoch 6/10\n",
            "13/13 [==============================] - 1s 85ms/step - loss: 0.5303 - accuracy: 0.8469\n",
            "Epoch 7/10\n",
            "13/13 [==============================] - 1s 109ms/step - loss: 0.4293 - accuracy: 0.8889\n",
            "Epoch 8/10\n",
            "13/13 [==============================] - 2s 136ms/step - loss: 0.2862 - accuracy: 0.9136\n",
            "Epoch 9/10\n",
            "13/13 [==============================] - 1s 88ms/step - loss: 0.2539 - accuracy: 0.9284\n",
            "Epoch 10/10\n",
            "13/13 [==============================] - 1s 84ms/step - loss: 0.2232 - accuracy: 0.9407\n"
          ]
        },
        {
          "output_type": "execute_result",
          "data": {
            "text/plain": [
              "<keras.callbacks.History at 0x7f31c14091e0>"
            ]
          },
          "metadata": {},
          "execution_count": 267
        }
      ]
    },
    {
      "cell_type": "code",
      "source": [
        "labels[34]"
      ],
      "metadata": {
        "colab": {
          "base_uri": "https://localhost:8080/",
          "height": 36
        },
        "id": "W1XTqyrAQHfU",
        "outputId": "8e6f7485-5f66-456a-b417-274b0d3e4fbf"
      },
      "execution_count": null,
      "outputs": [
        {
          "output_type": "execute_result",
          "data": {
            "text/plain": [
              "'creator'"
            ],
            "application/vnd.google.colaboratory.intrinsic+json": {
              "type": "string"
            }
          },
          "metadata": {},
          "execution_count": 241
        }
      ]
    },
    {
      "cell_type": "code",
      "source": [
        "tf.squeeze(tf.round(model.predict([\"How are you?\"])))"
      ],
      "metadata": {
        "colab": {
          "base_uri": "https://localhost:8080/"
        },
        "id": "TmLNhRfBc22F",
        "outputId": "c69bda74-f961-415b-a2c2-00b59a3511a3"
      },
      "execution_count": null,
      "outputs": [
        {
          "output_type": "stream",
          "name": "stdout",
          "text": [
            "1/1 [==============================] - 1s 951ms/step\n"
          ]
        },
        {
          "output_type": "execute_result",
          "data": {
            "text/plain": [
              "<tf.Tensor: shape=(38,), dtype=float32, numpy=\n",
              "array([0., 0., 0., 0., 0., 0., 0., 0., 0., 0., 0., 0., 0., 0., 0., 0., 0.,\n",
              "       0., 0., 0., 0., 0., 0., 0., 0., 0., 0., 0., 0., 0., 0., 0., 0., 0.,\n",
              "       0., 0., 0., 0.], dtype=float32)>"
            ]
          },
          "metadata": {},
          "execution_count": 242
        }
      ]
    },
    {
      "cell_type": "code",
      "source": [
        "x = model.predict([\"May I know your name?\"])"
      ],
      "metadata": {
        "colab": {
          "base_uri": "https://localhost:8080/"
        },
        "id": "whfpH_mjdXTW",
        "outputId": "29872493-757b-487d-b63f-5eb52acea692"
      },
      "execution_count": null,
      "outputs": [
        {
          "output_type": "stream",
          "name": "stderr",
          "text": [
            "WARNING:tensorflow:5 out of the last 11 calls to <function Model.make_predict_function.<locals>.predict_function at 0x7f31c14a3880> triggered tf.function retracing. Tracing is expensive and the excessive number of tracings could be due to (1) creating @tf.function repeatedly in a loop, (2) passing tensors with different shapes, (3) passing Python objects instead of tensors. For (1), please define your @tf.function outside of the loop. For (2), @tf.function has reduce_retracing=True option that can avoid unnecessary retracing. For (3), please refer to https://www.tensorflow.org/guide/function#controlling_retracing and https://www.tensorflow.org/api_docs/python/tf/function for  more details.\n"
          ]
        },
        {
          "output_type": "stream",
          "name": "stdout",
          "text": [
            "1/1 [==============================] - 1s 962ms/step\n"
          ]
        }
      ]
    },
    {
      "cell_type": "code",
      "source": [
        "x.argmax(1)"
      ],
      "metadata": {
        "colab": {
          "base_uri": "https://localhost:8080/"
        },
        "id": "s68j3xhbe8WE",
        "outputId": "1d73324a-d073-43da-fa43-8ebd528d3f8e"
      },
      "execution_count": null,
      "outputs": [
        {
          "output_type": "execute_result",
          "data": {
            "text/plain": [
              "array([2])"
            ]
          },
          "metadata": {},
          "execution_count": 269
        }
      ]
    },
    {
      "cell_type": "code",
      "source": [
        "tags[2]"
      ],
      "metadata": {
        "colab": {
          "base_uri": "https://localhost:8080/",
          "height": 36
        },
        "id": "I1vmKi-He_Eo",
        "outputId": "fa590d0f-ffc1-4b05-b26a-05da3c79a2f7"
      },
      "execution_count": null,
      "outputs": [
        {
          "output_type": "execute_result",
          "data": {
            "text/plain": [
              "'creator'"
            ],
            "application/vnd.google.colaboratory.intrinsic+json": {
              "type": "string"
            }
          },
          "metadata": {},
          "execution_count": 270
        }
      ]
    },
    {
      "cell_type": "code",
      "source": [
        "train_labels[4]"
      ],
      "metadata": {
        "colab": {
          "base_uri": "https://localhost:8080/"
        },
        "id": "Gr1lEnblfZH5",
        "outputId": "239c331b-69a2-404d-ed04-6755610d8fab"
      },
      "execution_count": null,
      "outputs": [
        {
          "output_type": "execute_result",
          "data": {
            "text/plain": [
              "0"
            ]
          },
          "metadata": {},
          "execution_count": 200
        }
      ]
    },
    {
      "cell_type": "code",
      "source": [],
      "metadata": {
        "id": "3lW5Vjctf7RA"
      },
      "execution_count": null,
      "outputs": []
    }
  ]
}